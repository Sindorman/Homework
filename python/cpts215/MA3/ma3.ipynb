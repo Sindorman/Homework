{
 "cells": [
  {
   "cell_type": "markdown",
   "metadata": {},
   "source": [
    "# Mykhailo Bykhovtsev"
   ]
  },
  {
   "cell_type": "markdown",
   "metadata": {},
   "source": [
    "# MA3 Algorithm Analysis"
   ]
  },
  {
   "cell_type": "markdown",
   "metadata": {},
   "source": [
    "For this micro assignment, you are going to download this Jupyter Notebook and answer the following questions. Your answer for a problem should be in a cell immediately after the problem cell. Do not modify the problem cell."
   ]
  },
  {
   "cell_type": "markdown",
   "metadata": {},
   "source": [
    "### Problem 1 (7 pts)\n",
    "Order the following set of functions by their growth rate:\n",
    "1. $N$\n",
    "2. $\\sqrt{N}$\n",
    "3. $N^{1.5}$\n",
    "4. $N^{2}$\n",
    "5. $N log N$\n",
    "6. $N log(log(N))$\n",
    "7. $N log^{2} N$\n",
    "8. $2/N$\n",
    "9. $N log^{2} (N)$\n",
    "10. $2^{N}$\n",
    "11. $2^{N/2}$\n",
    "12. $15$\n",
    "13. $N^{2} log(N)$\n",
    "14. $N^{4}$"
   ]
  },
  {
   "cell_type": "markdown",
   "metadata": {},
   "source": [
    "## Solution 1\n",
    "Ordered by their growth rate:\n",
    "1.  $2 / N$\n",
    "2.  $15$\n",
    "3.  $\\sqrt{N}$\n",
    "3.  $N$\n",
    "4.  $N log (log (N))$\n",
    "5.  $N log N$\n",
    "6.  $N log N^{2}$\n",
    "7.  $N log^{2} (N)$\n",
    "8.  $N^{1.5}$\n",
    "9.  $N^{2}$\n",
    "10. $N^{2} log N$\n",
    "11. $N^{4}$\n",
    "12. $2^{N/2}$\n",
    "13. $2^{N}$"
   ]
  },
  {
   "cell_type": "markdown",
   "metadata": {},
   "source": [
    "### Problem 2 (4 pts)\n",
    "A program takes 20 seconds for input size 250 (i.e., n=250). Ignoring the effect of constants, approximately how much time can the same program be expected to take if the input size is increased to 1000 given the following run-time complexities? \n",
    "1.\t$\\mathcal{O}(N)$\n",
    "2.\t$\\mathcal{O}(N log N)$\n",
    "3.\t$\\mathcal{O}(N^{3})$\n",
    "4.\t$\\mathcal{O}(2^{N})$"
   ]
  },
  {
   "cell_type": "markdown",
   "metadata": {},
   "source": [
    "## Solution 2\n",
    "It takes 20 seconds to run size of 250\n",
    "1. O(N) = 20 for N of 250\n",
    "    so it would be (20 / 250) * 1000 = 80 seconds\n",
    "2. O(N log N) = 20 seconds, so it would be (20 / 250 log 250) * 1000 log 1000 = 100.09 seconds\n",
    "3. $O(N^{3})$ = 20 seconds, so it would be $(20 / 250^{3}) * 1000^{3}$ = 1280 seconds\n",
    "4. $O(2^{N})$ = 20 seconds, so it would be $(20/2^{250}) * 2^{1000}$ = 1.184477e+227 seconds"
   ]
  },
  {
   "cell_type": "markdown",
   "metadata": {},
   "source": [
    "### Problem 3 (4 pts)\n",
    "I've developed a new, super cool sorting algorithm.  Here's the procedure:\n",
    "\n",
    "Until sorted:\n",
    "1.\tRandomly generate i = some number between 0 and n - 1 (n = size of array)\n",
    "2.\tRandomly generate j = some number between i + 1 and n - 1\n",
    "3.\tif array[i] > array[j], swap\n",
    "4.\tCheck to see if the array has been sorted\n",
    "\n",
    "List the algorithm's efficiency using Big-O."
   ]
  },
  {
   "cell_type": "markdown",
   "metadata": {},
   "source": [
    "## Solution 3\n",
    "So we generate i which is O(1) and then generate j which is also O(1), we don't count these\n",
    "In step 3 we try and swap these two random number which is also O(1)\n",
    "in Step 4 we check if array is sorted which is O(N)\n",
    "But we do this until array is sorted which is O(N)\n",
    "So our runtime complexity is N * N = $O(N^{2}) and our space complexity is O(1)"
   ]
  },
  {
   "cell_type": "markdown",
   "metadata": {},
   "source": [
    "### Problem 4 (10 pts)\n",
    "Given the following two functions:\n",
    "\n",
    "```python\n",
    "def f(n):\n",
    "   if n <= 0:\n",
    "      return 0\n",
    "   return 1 + f(n - 1)\n",
    "```\n",
    "\n",
    "```python\n",
    "def g(n):\n",
    "   summ = 0\n",
    "   for i in range(0, n, 1):\n",
    "      summ += 1\n",
    "   return summ\n",
    "```\n",
    "\n",
    "1. (2 pts) State the runtime complexity of both `f()` and `g()`\n",
    "1. (2 pts) State the memory (space) complexity for both `f()` and `g()`\n",
    "1. (6 pts) Write another function called `h(n)` that does the same thing, but is significantly faster."
   ]
  },
  {
   "cell_type": "markdown",
   "metadata": {},
   "source": [
    "## Solution 4\n",
    "\n",
    "1. f() runtime complexity is O(N) as it is recursive function that is being called 0 to N times. g() runtime complexity is O(N) as we have a for loop from 0 to N\n",
    "2. f() space complexity is O(N) as it is called 0 to N times on system stack. g() runtime complexity is O(N) because we have range(0, n, 1) which is a list from 0 to N elements\n",
    "3. \n",
    "```python\n",
    "def h(n):\n",
    "    return n * (n-1) / 2\n",
    "```"
   ]
  },
  {
   "cell_type": "markdown",
   "metadata": {},
   "source": [
    "### Problem 5 (4 pts)\n",
    "State `g(n)`'s runtime complexity:\n",
    "\n",
    "```python\n",
    "def f(n):\n",
    "   if n <= 1:`\n",
    "      return 1\n",
    "   return 1 + f(n/2)\n",
    "\n",
    "def g(n):\n",
    "   i = 1\n",
    "   while i < n:\n",
    "       f(i)\n",
    "       i *= 2\n",
    "```"
   ]
  },
  {
   "cell_type": "markdown",
   "metadata": {},
   "source": [
    "## Solution 5\n",
    "\n",
    "1. So g(n) loops from 0 to log N, but it also calls each time f(i) inside which is in total f(log N).\n",
    "2. f(n) runtime complexity is O(log(N)) as it start with N and goes until 1 each time calling itself with N / 2.\n",
    "3. so g(n) whole runtime complexity is O(log N) * O(log N) = $O((log N)^{2})$"
   ]
  },
  {
   "cell_type": "markdown",
   "metadata": {},
   "source": [
    "### Problem 6 (8 pts)\n",
    "(Adapted from the 2012 ICPC programming competition) Write an algorithm to solve the following problem and specify its runtime complexity using the most relevant terms:\n",
    "\n",
    "Given a nonnegative integer, what is the smallest value, $k$, such that:\n",
    "\n",
    "$$n, 2n, 3n, ..., kn$$\n",
    "\n",
    "contains all 10 decimal numbers (0 through 9) at least once? \n",
    "\n",
    "For example, given an input of \"1\", our sequence would be:\n",
    "\n",
    "$$1,2(1),3(1),4(1),5(1),6(1),7(1),8(1),9(1),10(1)$$\n",
    "\n",
    "and thus $k$ would be 10.  Other examples:\n",
    "\n",
    "|Integer Value|K value|\n",
    "|----|-----|\n",
    "|10|9|\n",
    "|123456789|3|\n",
    "|3141592|5|\n"
   ]
  },
  {
   "cell_type": "markdown",
   "metadata": {},
   "source": [
    "# Solution 6\n",
    "\n"
   ]
  },
  {
   "cell_type": "code",
   "execution_count": 2,
   "metadata": {},
   "outputs": [],
   "source": [
    "def seq(n):\n",
    "    data = list()\n",
    "    index = 0\n",
    "    while index < 10:\n",
    "        data.append(0)\n",
    "        index += 1\n",
    "    index = 0\n",
    "    number = 0\n",
    "    while 0 in data:\n",
    "        index += 1\n",
    "        number = index * n\n",
    "        #TODO update data\n",
    "    return index"
   ]
  },
  {
   "cell_type": "markdown",
   "metadata": {},
   "source": [
    "### Problem 7 (10 pts)\n",
    "Provide the algorithmic efficiency for the following tasks.  Justify your answer.\n",
    "1. Determining whether a provided number is odd or even\n",
    "1. Determining whether or not a number exists in a list\n",
    "1. Finding the smallest number in a list\n",
    "1. Determining whether or not two unsorted lists of the same length contain all of the same values (assume no duplicate values)\n",
    "1. Determining whether or not two sorted list contain all of the same values (assume no duplicate values)"
   ]
  },
  {
   "cell_type": "markdown",
   "metadata": {},
   "source": [
    "# Solution 7\n",
    "1. O(1) because all we need is to take module of a number and compare it to 0. ANd mod is O(1)\n",
    "2. That is O(N) as we have to search entire list in the worst case.\n",
    "3. That is $O(N^{2})$ with brute-force, or it is O(N log N) if we use quicksort/mergesort/timsort to sort list and return first element. Or try and use Radix sort which I think would be O(N * k / d)\n",
    "4. That would be $O(N^{2})$ with brute-force or O((N log N) + N) if we sort both arrays and search them.\n",
    "5. That would be O(N) as we would just have to loop two at the same time and compare, if element is not the same we return false right away."
   ]
  },
  {
   "cell_type": "code",
   "execution_count": null,
   "metadata": {},
   "outputs": [],
   "source": []
  }
 ],
 "metadata": {
  "kernelspec": {
   "display_name": "Python 3",
   "language": "python",
   "name": "python3"
  },
  "language_info": {
   "codemirror_mode": {
    "name": "ipython",
    "version": 3
   },
   "file_extension": ".py",
   "mimetype": "text/x-python",
   "name": "python",
   "nbconvert_exporter": "python",
   "pygments_lexer": "ipython3",
   "version": "3.6.5"
  }
 },
 "nbformat": 4,
 "nbformat_minor": 2
}
