{
 "cells": [
  {
   "cell_type": "markdown",
   "metadata": {},
   "source": [
    "# Amortized loan calculator"
   ]
  },
  {
   "cell_type": "markdown",
   "metadata": {},
   "source": [
    "An amortized loan is a loan where the principal of the loan is paid down over the life a loan (that is, amortized) according to an amortization schedule. Each payment to the lender will consist of a portion of interest and a portion of principal. Mortgage loans are typically amortizing loans. The calculations for an amortizing loan are those of an annuity using the time value of money formulas, and can be done using an amortization calculator."
   ]
  },
  {
   "cell_type": "markdown",
   "metadata": {},
   "source": [
    "# Relevant Formulas"
   ]
  },
  {
   "cell_type": "markdown",
   "metadata": {
    "collapsed": true
   },
   "source": [
    "### Monthly Payment Calculation\n",
    "For calculating monthly payments, use the following formula:\n",
    "\n",
    "$$mpymt = \\frac{r(P)}{1 - (1 + r)^{-n}}$$\n",
    "\n",
    "Where $r$ is the *monthly* interest rate, $P$ is the cost of the car, and $n$ is the number of monthly payments. You can figure out $r$ by converting the interest rate the user enters to a decimal (divide by 100) and then dividing by 12 (12 months in a year). \n"
   ]
  },
  {
   "cell_type": "code",
   "execution_count": null,
   "metadata": {
    "scrolled": false
   },
   "outputs": [],
   "source": [
    "#!/usr/bin/python3\n",
    "import matplotlib.pyplot as plt\n",
    "import math\n",
    "import numpy as np\n",
    "\n",
    "def monthly_payment(cost, n, r):\n",
    "    r /= 1200 # converting from precent to decimal and per month\n",
    "    return round((r * cost) / (1 - (1 + r)**(-n*12)), 2)\n",
    "\n",
    "def balance(cost, n , r):\n",
    "    n_m = n * 12\n",
    "    r_m = r / 1200\n",
    "    return round((cost * (1 + r_m)**n_m) - monthly_payment(cost, n, r)*(((1 + r_m)**n_m - 1)/r_m), 2)\n",
    "\n",
    "def calc_loan(name, cost, n, r):\n",
    "    monthly_pay = monthly_payment(cost, n , r)\n",
    "    print(\"Monthly payment: {:.2f}\".format(monthly_pay))\n",
    "\n",
    "    table = list()\n",
    "    graph_data = [list(), list(), list()]\n",
    "    total_principle = 0\n",
    "    total_interest = 0\n",
    "    balance = cost\n",
    "    index = 0\n",
    "    while balance > 0:\n",
    "        if index % 12 == 0:\n",
    "            graph_data[0].append(balance)\n",
    "            graph_data[1].append(int(total_principle))\n",
    "            graph_data[2].append(int(total_interest))\n",
    "        interest = round(balance * (r / 1200), 2)\n",
    "        total_interest = round(interest + total_interest, 2)\n",
    "        principle = round(monthly_pay - interest, 2)\n",
    "        table.append([balance, principle, interest, monthly_pay])\n",
    "        balance = round(balance - principle, 2)\n",
    "        total_principle += principle\n",
    "        index += 1\n",
    "    \n",
    "    graph_data[0].append(0)\n",
    "    graph_data[1].append(int(total_principle))\n",
    "    graph_data[2].append(int(total_interest))\n",
    "\n",
    "    print(\"Total loan amount: {:.2f}\".format(table[0][0] + total_interest))\n",
    "    print(\"Total interest paid: {:.2f}\".format(total_interest))\n",
    "\n",
    "    print(\"{:<7} {:>10s}   {:>9s}   {:>8s}   {:>9s}\".format(\"Month\", \"Balance\", \"Principal\", \"Interest\", \"Payment\"))\n",
    "    index = 1\n",
    "    for t in table:\n",
    "        print (\"{:<7}${:>10.2f}   ${:>8.2f}   ${:>7.2f}   ${:>8.2f}\".format(index, t[0], t[1], t[2], t[3]))\n",
    "        index += 1\n",
    "    print(\"{:<7}${:>10.2f}   ${:>8.2f}   ${:>7.2f}   ${:>8.2f}\".format(index, 0.00, 0.00, 0.00, 0.00))\n",
    "    del table\n",
    "    plot_graph(name, cost, graph_data, n)\n",
    "\n",
    "def plot_graph(name, cost, graph_data, n):\n",
    "    balance_x = np.array(list(range(0, n + 1)))\n",
    "    balance_y = np.array(graph_data[0])\n",
    "\n",
    "    labels = [\"Principle Paid\", \"Interest Paid\"]\n",
    "\n",
    "    # Converting to numpy arrays because graph likes them more\n",
    "    principle_paid = np.array(graph_data[1])\n",
    "    interest_paid = np.array(graph_data[2])\n",
    "    del graph_data\n",
    "\n",
    "    #plt.rc('font', family='serif', size=13)\n",
    "    plt.stackplot(balance_x, principle_paid, interest_paid, colors=['g', \"#FFA500\"], labels=labels)\n",
    "    plt.title(name + \" Loan\")\n",
    "    balance_line = plt.plot(balance_x, balance_y, label=\"Balance Remaining\")\n",
    "    plt.setp(balance_line, color='k', linewidth=2.0)\n",
    "    plt.legend(loc='upper center')\n",
    "    plt.ylabel('Balance', fontsize=15)\n",
    "    plt.xlabel('Years', fontsize=15)\n",
    "    plt.axis([0, n, 0, cost + cost * 0.2])\n",
    "    location, proper = plt.yticks()\n",
    "    del proper\n",
    "    formatted_balance = list()\n",
    "    for f in location:\n",
    "        formatted_balance.append(\"${:,}\".format(f))\n",
    "    plt.yticks(location, formatted_balance)\n",
    "    plt.grid()\n",
    "    plt.autoscale(enable=True, axis=u'both', tight=False)\n",
    "    plt.show()\n",
    "\n",
    "\n",
    "def main():\n",
    "    name = input(\"What is the loan for? \")    \n",
    "    try:        \n",
    "        total = round(float(input(\"Please enter the principal amount for the loan: \")), 2)\n",
    "        rate = float(input(\"Please enter the yearly interest rate (as a percent) for the loan: \"))\n",
    "        years = int(input(\"Please enter the number of years for the loan: \"))\n",
    "    except ValueError:\n",
    "        print(\"Error! That is not an number!\")\n",
    "        exit(1)\n",
    "    calc_loan(name, total, years, rate)\n",
    "    #print(\"Balance: {}\".format(balance(total, years, rate)))\n",
    "\n",
    "if __name__ == \"__main__\":\n",
    "    main()"
   ]
  }
 ],
 "metadata": {
  "kernelspec": {
   "display_name": "Python 3",
   "language": "python",
   "name": "python3"
  },
  "language_info": {
   "codemirror_mode": {
    "name": "ipython",
    "version": 3
   },
   "file_extension": ".py",
   "mimetype": "text/x-python",
   "name": "python",
   "nbconvert_exporter": "python",
   "pygments_lexer": "ipython3",
   "version": "3.6.7"
  }
 },
 "nbformat": 4,
 "nbformat_minor": 2
}
